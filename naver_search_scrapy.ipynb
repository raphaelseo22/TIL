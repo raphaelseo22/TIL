{
 "cells": [
  {
   "cell_type": "code",
   "execution_count": 1,
   "metadata": {},
   "outputs": [],
   "source": [
    "import requests"
   ]
  },
  {
   "cell_type": "code",
   "execution_count": 2,
   "metadata": {},
   "outputs": [],
   "source": [
    "from scrapy.http import TextResponse"
   ]
  },
  {
   "cell_type": "code",
   "execution_count": null,
   "metadata": {},
   "outputs": [],
   "source": [
    "req = requests.get('https://www.naver.com/')\n",
    "response = TextResponse(req.url, body=req.text, encoding='utf-8')"
   ]
  },
  {
   "cell_type": "code",
   "execution_count": 17,
   "metadata": {},
   "outputs": [
    {
     "data": {
      "text/plain": [
       "['김희영',\n",
       " '김현철 정신과의사',\n",
       " '신림동',\n",
       " '최태원',\n",
       " '1100원 햄버거',\n",
       " '티앤씨재단 김희영',\n",
       " '네이버 오류',\n",
       " '노소영',\n",
       " '원펀맨 2기 8화',\n",
       " '이다희',\n",
       " '쇼챔피언',\n",
       " '맨인블랙 인터네셔널',\n",
       " '임수정',\n",
       " '박순천',\n",
       " '지랄드개나리',\n",
       " '미스 페레그린과 이상한 아이들의 집',\n",
       " '위메프 패션왕',\n",
       " '고질라',\n",
       " '홍익인간',\n",
       " '이의정']"
      ]
     },
     "execution_count": 17,
     "metadata": {},
     "output_type": "execute_result"
    }
   ],
   "source": [
    "response.xpath('//*[@id=\"PM_ID_ct\"]/div[1]/div[2]/div[2]/div[1]/div/ul/li/a/span[2]/text()').extract()"
   ]
  }
 ],
 "metadata": {
  "kernelspec": {
   "display_name": "Python 3",
   "language": "python",
   "name": "python3"
  },
  "language_info": {
   "codemirror_mode": {
    "name": "ipython",
    "version": 3
   },
   "file_extension": ".py",
   "mimetype": "text/x-python",
   "name": "python",
   "nbconvert_exporter": "python",
   "pygments_lexer": "ipython3",
   "version": "3.7.3"
  }
 },
 "nbformat": 4,
 "nbformat_minor": 2
}
